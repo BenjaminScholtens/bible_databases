{
 "cells": [
  {
   "cell_type": "code",
   "execution_count": 1,
   "metadata": {},
   "outputs": [
    {
     "name": "stdout",
     "output_type": "stream",
     "text": [
      "Requirement already satisfied: transformers in /opt/homebrew/lib/python3.11/site-packages (4.29.2)\n",
      "Requirement already satisfied: filelock in /opt/homebrew/lib/python3.11/site-packages (from transformers) (3.12.0)\n",
      "Requirement already satisfied: huggingface-hub<1.0,>=0.14.1 in /opt/homebrew/lib/python3.11/site-packages (from transformers) (0.14.1)\n",
      "Requirement already satisfied: numpy>=1.17 in /opt/homebrew/lib/python3.11/site-packages (from transformers) (1.24.3)\n",
      "Requirement already satisfied: packaging>=20.0 in /Users/benjaminscholtens/Library/Python/3.11/lib/python/site-packages (from transformers) (23.1)\n",
      "Requirement already satisfied: pyyaml>=5.1 in /opt/homebrew/lib/python3.11/site-packages (from transformers) (6.0)\n",
      "Requirement already satisfied: regex!=2019.12.17 in /opt/homebrew/lib/python3.11/site-packages (from transformers) (2023.5.5)\n",
      "Requirement already satisfied: requests in /opt/homebrew/lib/python3.11/site-packages (from transformers) (2.30.0)\n",
      "Requirement already satisfied: tokenizers!=0.11.3,<0.14,>=0.11.1 in /opt/homebrew/lib/python3.11/site-packages (from transformers) (0.13.3)\n",
      "Requirement already satisfied: tqdm>=4.27 in /opt/homebrew/lib/python3.11/site-packages (from transformers) (4.65.0)\n",
      "Requirement already satisfied: fsspec in /opt/homebrew/lib/python3.11/site-packages (from huggingface-hub<1.0,>=0.14.1->transformers) (2023.5.0)\n",
      "Requirement already satisfied: typing-extensions>=3.7.4.3 in /opt/homebrew/lib/python3.11/site-packages (from huggingface-hub<1.0,>=0.14.1->transformers) (4.5.0)\n",
      "Requirement already satisfied: charset-normalizer<4,>=2 in /opt/homebrew/lib/python3.11/site-packages (from requests->transformers) (3.1.0)\n",
      "Requirement already satisfied: idna<4,>=2.5 in /opt/homebrew/lib/python3.11/site-packages (from requests->transformers) (3.4)\n",
      "Requirement already satisfied: urllib3<3,>=1.21.1 in /opt/homebrew/lib/python3.11/site-packages (from requests->transformers) (2.0.2)\n",
      "Requirement already satisfied: certifi>=2017.4.17 in /opt/homebrew/lib/python3.11/site-packages (from requests->transformers) (2023.5.7)\n",
      "\n",
      "\u001b[1m[\u001b[0m\u001b[34;49mnotice\u001b[0m\u001b[1;39;49m]\u001b[0m\u001b[39;49m A new release of pip available: \u001b[0m\u001b[31;49m22.3.1\u001b[0m\u001b[39;49m -> \u001b[0m\u001b[32;49m23.1.2\u001b[0m\n",
      "\u001b[1m[\u001b[0m\u001b[34;49mnotice\u001b[0m\u001b[1;39;49m]\u001b[0m\u001b[39;49m To update, run: \u001b[0m\u001b[32;49mpython3.11 -m pip install --upgrade pip\u001b[0m\n",
      "Note: you may need to restart the kernel to use updated packages.\n"
     ]
    }
   ],
   "source": [
    "%pip install transformers"
   ]
  },
  {
   "cell_type": "code",
   "execution_count": 2,
   "metadata": {},
   "outputs": [
    {
     "name": "stderr",
     "output_type": "stream",
     "text": [
      "/opt/homebrew/lib/python3.11/site-packages/tqdm/auto.py:21: TqdmWarning: IProgress not found. Please update jupyter and ipywidgets. See https://ipywidgets.readthedocs.io/en/stable/user_install.html\n",
      "  from .autonotebook import tqdm as notebook_tqdm\n",
      "Some weights of the model checkpoint at bert-base-uncased were not used when initializing BertModel: ['cls.seq_relationship.weight', 'cls.predictions.transform.dense.weight', 'cls.predictions.transform.LayerNorm.weight', 'cls.seq_relationship.bias', 'cls.predictions.bias', 'cls.predictions.transform.dense.bias', 'cls.predictions.decoder.weight', 'cls.predictions.transform.LayerNorm.bias']\n",
      "- This IS expected if you are initializing BertModel from the checkpoint of a model trained on another task or with another architecture (e.g. initializing a BertForSequenceClassification model from a BertForPreTraining model).\n",
      "- This IS NOT expected if you are initializing BertModel from the checkpoint of a model that you expect to be exactly identical (initializing a BertForSequenceClassification model from a BertForSequenceClassification model).\n"
     ]
    }
   ],
   "source": [
    "from transformers import BertModel, BertTokenizer\n",
    "from sklearn.metrics.pairwise import cosine_similarity\n",
    "import torch\n",
    "\n",
    "# Load the BERT model and tokenizer\n",
    "model = BertModel.from_pretrained('bert-base-uncased', output_hidden_states = True)\n",
    "tokenizer = BertTokenizer.from_pretrained('bert-base-uncased')\n"
   ]
  },
  {
   "cell_type": "code",
   "execution_count": 3,
   "metadata": {},
   "outputs": [],
   "source": [
    "\n",
    "# create set_of_verse_versions as an array of verses from t_asv.json, t_bbe.json, t_kjv.json, t_web.json, t_ylt.json\n",
    "# a sample of the data looks like this {\"resultset\": {\"row\": [{\"field\": [1001001, 1, 1, 1, \"In the beginning God created the heavens and the earth.\"]}, {\"field\": [1001002, 1, 1, 2, \"And the earth was waste and void; and darkness was upon the face of the deep: and the Spirit of God moved upon the face of the waters.\"]}, {\"field\": [1001003, 1, 1, 3, \"And God said, Let there be light: and there was light.\"]}, {\"field\": [1001004, 1, 1, 4, \"And God saw the light, that it was good: and God divided the light from the darkness.\"]}, {\"field\": [1001005, 1, 1, 5, \"And God called the light Day, and the darkness he called Night. And there was evening and there was morning, one day.\"]}, {\"field\": [1001006, 1, 1, 6, \"And God said, Let there be a firmament in the midst of the waters, and let it divide the waters from the waters.\"]}, {\"field\": [1001007, 1, 1, 7, \"And God made the firmament, and divided the waters which were under the firmament from the waters which were above the firmament: and it was so.\"]}, {\"field\": [1001008, 1, 1, 8, \"And God called the firmament Heaven. And there was evening and there was morning, a second day.\"]}, {\"field\": [1001009, 1, 1, 9, \"And God said, Let the waters under the heavens be gathered together unto one place, and let the dry land appear: and it was so.\"]}, {\"field\": [1001010, 1, 1, 10, \"And God called the dry land Earth; and the gathering together of the waters called he Seas: and God saw that it was good.\"]}, {\"field\": [1001011, 1, 1, 11, \"And God said, Let the earth put forth grass, herbs yielding seed, `and' fruit-trees bearing fruit after their kind, wherein is the seed thereof, upon the earth: and it was so.\"]}, {\"field\": [1001012, 1, 1, 12, \"And the earth brought forth grass, herbs yielding seed after their kind, and trees bearing fruit, wherein is the seed thereof, after their kind: and God saw that it was good.\"]}, {\"field\": [1001013, 1, 1, 13, \"And there was evening and there was morning, a third day.\"]}, {\"field\": [1001014, 1, 1, 14, \"And God said, Let there be lights in the firmament of heaven to divide the day from the night; and let them be for signs, and for seasons, and for days and years:\"]}, {\"field\": [1001015, 1, 1, 15, \"and let them be for lights in the firmament of heaven to give light upon the earth: and it was so.\"]}, {\"field\": [1001016, 1, 1, 16, \"And God made the two great lights; the greater light to rule the day, and the lesser light to rule the night: `he made' the stars also.\"]}, {\"field\": [1001017, 1, 1, 17, \"And God set them in the firmament of heaven to give light upon the earth,\"]}, {\"field\": [1001018, 1, 1, 18, \"and to rule over the day and over the night, and to divide the light from the darkness: and God saw that it was good.\"]}, {\"field\": [1001019, 1, 1, 19, \"And there was evening and there was morning, a fourth day.\"]}, {\"field\": [1001020, 1, 1, 20, \"And God said, Let the waters swarm with swarms of living creatures, and let birds fly above the earth in the open firmament of heaven.\"]}, {\"field\": [1001021, 1, 1, 21, \"And God created the great sea-monsters, and every living creature that moveth, wherewith the waters swarmed, after their kind, and every winged bird after its kind: and God saw that it was good.\"]}, {\"field\": [1001022, 1, 1, 22, \"And God blessed them, saying, Be fruitful, and multiply, and fill the waters in the seas, and let birds multiply on the earth.\"]},...\n",
    "\n",
    "# set_of_verse_versions = [ \n",
    "# {verse: 1001001, book: 1, chapter: 1, verse_number: 1, verse_text: \"In the beginning God created the heavens and the earth.\"},\n",
    "# ]\n",
    "\n"
   ]
  },
  {
   "cell_type": "code",
   "execution_count": 4,
   "metadata": {},
   "outputs": [
    {
     "name": "stdout",
     "output_type": "stream",
     "text": [
      "For John 3:16 > Cosine similarity between text 1 and text 2: 0.9586206674575806\n",
      "For John 3:16 > Cosine similarity between text 1 and text 3: 0.923329770565033\n",
      "For John 3:16 > Cosine similarity between text 2 and text 3: 0.9740370512008667\n"
     ]
    }
   ],
   "source": [
    "# Function to get embeddings\n",
    "def get_embeddings(text):\n",
    "    input_ids = tokenizer.encode(text, add_special_tokens=True)\n",
    "    input_ids = torch.tensor(input_ids).unsqueeze(0)\n",
    "    with torch.no_grad():\n",
    "        outputs = model(input_ids)\n",
    "    # Use the mean of the last hidden layer's output as the embedding\n",
    "    embeddings = outputs.last_hidden_state.mean(dim=1)\n",
    "    return embeddings\n",
    "\n",
    "# Get embeddings for each text\n",
    "embeddings = [get_embeddings(verse_set) for verse_set in set_of_verse_versions]\n",
    "\n",
    "# Calculate cosine similarities\n",
    "for i in range(len(embeddings)):\n",
    "    for j in range(i+1, len(embeddings)):\n",
    "        sim = cosine_similarity(embeddings[i], embeddings[j])\n",
    "        print(f\"For John 3:16 > Cosine similarity between text {i+1} and text {j+1}: {sim[0][0]}\")\n"
   ]
  }
 ],
 "metadata": {
  "kernelspec": {
   "display_name": "Python 3",
   "language": "python",
   "name": "python3"
  },
  "language_info": {
   "codemirror_mode": {
    "name": "ipython",
    "version": 3
   },
   "file_extension": ".py",
   "mimetype": "text/x-python",
   "name": "python",
   "nbconvert_exporter": "python",
   "pygments_lexer": "ipython3",
   "version": "3.11.1"
  },
  "orig_nbformat": 4
 },
 "nbformat": 4,
 "nbformat_minor": 2
}
