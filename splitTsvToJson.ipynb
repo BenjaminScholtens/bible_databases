{
 "cells": [
  {
   "cell_type": "code",
   "execution_count": 1,
   "metadata": {},
   "outputs": [],
   "source": [
    "import csv\n",
    "import json\n",
    "import os\n",
    "from collections import defaultdict\n",
    "\n",
    "\n"
   ]
  },
  {
   "cell_type": "code",
   "execution_count": 2,
   "metadata": {},
   "outputs": [],
   "source": [
    "# Create a dictionary to hold all the data\n",
    "data = defaultdict(list)\n",
    "\n",
    "# Open the tsv file\n",
    "with open('cosine_similarity_results.tsv', 'r') as tsvfile:\n",
    "    reader = csv.DictReader(tsvfile, delimiter='\\t')\n",
    "    for row in reader:\n",
    "        # The book code is the verse_uid with the last six characters (chapter and verse) removed\n",
    "        book_code = row['verse_uid'][:-6]\n",
    "        data[book_code].append(row)\n",
    "\n",
    "# Ensure the output directory exists\n",
    "os.makedirs('booksOfTheBible', exist_ok=True)\n",
    "\n",
    "# Write each book's data to a separate JSON file\n",
    "for book_code, rows in data.items():\n",
    "    with open(f'booksOfTheBible/{book_code}.json', 'w') as jsonfile:\n",
    "        json.dump(rows, jsonfile, indent=4)"
   ]
  }
 ],
 "metadata": {
  "kernelspec": {
   "display_name": "Python 3",
   "language": "python",
   "name": "python3"
  },
  "language_info": {
   "codemirror_mode": {
    "name": "ipython",
    "version": 3
   },
   "file_extension": ".py",
   "mimetype": "text/x-python",
   "name": "python",
   "nbconvert_exporter": "python",
   "pygments_lexer": "ipython3",
   "version": "3.11.1"
  },
  "orig_nbformat": 4
 },
 "nbformat": 4,
 "nbformat_minor": 2
}
